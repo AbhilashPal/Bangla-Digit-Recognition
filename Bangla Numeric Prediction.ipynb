{
 "cells": [
  {
   "cell_type": "markdown",
   "metadata": {},
   "source": [
    "আগে সব আনি\n",
    "---\n",
    "Let us Import Everything we need for Preprocessing First :"
   ]
  },
  {
   "cell_type": "code",
   "execution_count": 2,
   "metadata": {},
   "outputs": [],
   "source": [
    "import numpy as np\n",
    "from IPython.display import display, Image\n",
    "import os\n",
    "import PIL.Image\n",
    "import pandas as pd\n",
    "import cv2\n",
    "import matplotlib.pyplot as plt"
   ]
  },
  {
   "cell_type": "code",
   "execution_count": 3,
   "metadata": {},
   "outputs": [],
   "source": [
    "df = pd.read_csv(\"training-a.csv\")"
   ]
  },
  {
   "cell_type": "code",
   "execution_count": 4,
   "metadata": {},
   "outputs": [
    {
     "data": {
      "text/html": [
       "<div>\n",
       "<style scoped>\n",
       "    .dataframe tbody tr th:only-of-type {\n",
       "        vertical-align: middle;\n",
       "    }\n",
       "\n",
       "    .dataframe tbody tr th {\n",
       "        vertical-align: top;\n",
       "    }\n",
       "\n",
       "    .dataframe thead th {\n",
       "        text-align: right;\n",
       "    }\n",
       "</style>\n",
       "<table border=\"1\" class=\"dataframe\">\n",
       "  <thead>\n",
       "    <tr style=\"text-align: right;\">\n",
       "      <th></th>\n",
       "      <th>filename</th>\n",
       "      <th>original filename</th>\n",
       "      <th>scanid</th>\n",
       "      <th>digit</th>\n",
       "      <th>database name original</th>\n",
       "      <th>contributing team</th>\n",
       "      <th>database name</th>\n",
       "    </tr>\n",
       "  </thead>\n",
       "  <tbody>\n",
       "    <tr>\n",
       "      <th>0</th>\n",
       "      <td>a00000.png</td>\n",
       "      <td>Scan_58_digit_5_num_8.png</td>\n",
       "      <td>58</td>\n",
       "      <td>5</td>\n",
       "      <td>BHDDB</td>\n",
       "      <td>Buet_Broncos</td>\n",
       "      <td>training-a</td>\n",
       "    </tr>\n",
       "    <tr>\n",
       "      <th>1</th>\n",
       "      <td>a00001.png</td>\n",
       "      <td>Scan_73_digit_3_num_5.png</td>\n",
       "      <td>73</td>\n",
       "      <td>3</td>\n",
       "      <td>BHDDB</td>\n",
       "      <td>Buet_Broncos</td>\n",
       "      <td>training-a</td>\n",
       "    </tr>\n",
       "    <tr>\n",
       "      <th>2</th>\n",
       "      <td>a00002.png</td>\n",
       "      <td>Scan_18_digit_1_num_3.png</td>\n",
       "      <td>18</td>\n",
       "      <td>1</td>\n",
       "      <td>BHDDB</td>\n",
       "      <td>Buet_Broncos</td>\n",
       "      <td>training-a</td>\n",
       "    </tr>\n",
       "    <tr>\n",
       "      <th>3</th>\n",
       "      <td>a00003.png</td>\n",
       "      <td>Scan_166_digit_7_num_3.png</td>\n",
       "      <td>166</td>\n",
       "      <td>7</td>\n",
       "      <td>BHDDB</td>\n",
       "      <td>Buet_Broncos</td>\n",
       "      <td>training-a</td>\n",
       "    </tr>\n",
       "    <tr>\n",
       "      <th>4</th>\n",
       "      <td>a00004.png</td>\n",
       "      <td>Scan_108_digit_0_num_1.png</td>\n",
       "      <td>108</td>\n",
       "      <td>0</td>\n",
       "      <td>BHDDB</td>\n",
       "      <td>Buet_Broncos</td>\n",
       "      <td>training-a</td>\n",
       "    </tr>\n",
       "  </tbody>\n",
       "</table>\n",
       "</div>"
      ],
      "text/plain": [
       "     filename           original filename  scanid  digit  \\\n",
       "0  a00000.png   Scan_58_digit_5_num_8.png      58      5   \n",
       "1  a00001.png   Scan_73_digit_3_num_5.png      73      3   \n",
       "2  a00002.png   Scan_18_digit_1_num_3.png      18      1   \n",
       "3  a00003.png  Scan_166_digit_7_num_3.png     166      7   \n",
       "4  a00004.png  Scan_108_digit_0_num_1.png     108      0   \n",
       "\n",
       "  database name original contributing team database name  \n",
       "0                  BHDDB      Buet_Broncos    training-a  \n",
       "1                  BHDDB      Buet_Broncos    training-a  \n",
       "2                  BHDDB      Buet_Broncos    training-a  \n",
       "3                  BHDDB      Buet_Broncos    training-a  \n",
       "4                  BHDDB      Buet_Broncos    training-a  "
      ]
     },
     "execution_count": 4,
     "metadata": {},
     "output_type": "execute_result"
    }
   ],
   "source": [
    "df.head()"
   ]
  },
  {
   "cell_type": "code",
   "execution_count": 5,
   "metadata": {
    "scrolled": true
   },
   "outputs": [
    {
     "data": {
      "text/plain": [
       "0    5\n",
       "1    3\n",
       "2    1\n",
       "3    7\n",
       "4    0\n",
       "Name: digit, dtype: int64"
      ]
     },
     "execution_count": 5,
     "metadata": {},
     "output_type": "execute_result"
    }
   ],
   "source": [
    "df['digit'][0:5]"
   ]
  },
  {
   "cell_type": "code",
   "execution_count": 6,
   "metadata": {},
   "outputs": [],
   "source": [
    "mydict = dict(zip(df.filename, df.digit))"
   ]
  },
  {
   "cell_type": "code",
   "execution_count": 7,
   "metadata": {},
   "outputs": [
    {
     "name": "stdout",
     "output_type": "stream",
     "text": [
      "a14793.png : 3\n",
      "a12571.png : 7\n",
      "a15992.png : 3\n",
      "a01527.png : 1\n",
      "a07658.png : 1\n",
      "a01656.png : 6\n",
      "a05613.png : 6\n",
      "a11424.png : 9\n",
      "a18024.png : 2\n",
      "a13835.png : 2\n"
     ]
    }
   ],
   "source": [
    "x=0\n",
    "for k in mydict: \n",
    "    print(k,\":\",mydict[k])\n",
    "    x+=1\n",
    "    if x==10:\n",
    "        break"
   ]
  },
  {
   "cell_type": "markdown",
   "metadata": {},
   "source": [
    "একটা ছবি খুলে দেখি ।\n",
    "--\n",
    "Let us View a Few Images :"
   ]
  },
  {
   "cell_type": "code",
   "execution_count": 8,
   "metadata": {},
   "outputs": [],
   "source": [
    "filenames = list(mydict.keys())"
   ]
  },
  {
   "cell_type": "code",
   "execution_count": 9,
   "metadata": {},
   "outputs": [
    {
     "data": {
      "text/plain": [
       "(28, 28)"
      ]
     },
     "execution_count": 9,
     "metadata": {},
     "output_type": "execute_result"
    },
    {
     "data": {
      "image/png": "[encoded data removed]",
      "text/plain": [
       "<matplotlib.figure.Figure at 0x25adf152b70>"
      ]
     },
     "metadata": {},
     "output_type": "display_data"
    }
   ],
   "source": [
    "fname = filenames[0]\n",
    "image = cv2.imread(\"training-a/\"+fname)\n",
    "image = cv2.cvtColor(image,cv2.COLOR_BGR2GRAY)\n",
    "image = cv2.resize(image,(28,28))\n",
    "plt.imshow(image)\n",
    "image.shape"
   ]
  },
  {
   "cell_type": "code",
   "execution_count": 10,
   "metadata": {},
   "outputs": [
    {
     "name": "stdout",
     "output_type": "stream",
     "text": [
      "19701 19701\n",
      "Wall time: 7min 56s\n"
     ]
    }
   ],
   "source": [
    "%%time\n",
    "x = []\n",
    "y = []\n",
    "for fname in mydict : \n",
    "    img = cv2.imread(\"training-a/\"+fname)\n",
    "    if img is not None:\n",
    "        img = cv2.cvtColor(img,cv2.COLOR_BGR2GRAY)\n",
    "        img = cv2.resize(img,(28,28),interpolation = cv2.INTER_CUBIC)\n",
    "        img = np.array(img)\n",
    "        x.append(img)\n",
    "        y.append(mydict[fname])\n",
    "print(len(x),len(y))"
   ]
  },
  {
   "cell_type": "code",
   "execution_count": 13,
   "metadata": {},
   "outputs": [
    {
     "data": {
      "text/plain": [
       "(19701, 28, 28)"
      ]
     },
     "execution_count": 13,
     "metadata": {},
     "output_type": "execute_result"
    }
   ],
   "source": [
    "x = np.array(x)\n",
    "x.shape"
   ]
  },
  {
   "cell_type": "markdown",
   "metadata": {},
   "source": [
    "কয়েকটা ছবি দেখা যাক\n",
    "---\n",
    "Let us view random images alongside their labels."
   ]
  },
  {
   "cell_type": "code",
   "execution_count": 17,
   "metadata": {},
   "outputs": [
    {
     "data": {
      "image/png": "[encoded data removed]",
      "text/plain": [
       "<matplotlib.figure.Figure at 0x25adf1eb9b0>"
      ]
     },
     "metadata": {},
     "output_type": "display_data"
    },
    {
     "data": {
      "image/png": "[encoded data removed]",
      "text/plain": [
       "<matplotlib.figure.Figure at 0x25adf3bf358>"
      ]
     },
     "metadata": {},
     "output_type": "display_data"
    },
    {
     "data": {
      "image/png": "[encoded data removed]",
      "text/plain": [
       "<matplotlib.figure.Figure at 0x25adf3e4eb8>"
      ]
     },
     "metadata": {},
     "output_type": "display_data"
    },
    {
     "data": {
      "image/png": "[encoded data removed]",
      "text/plain": [
       "<matplotlib.figure.Figure at 0x25adf430828>"
      ]
     },
     "metadata": {},
     "output_type": "display_data"
    },
    {
     "data": {
      "image/png": "[encoded data removed]",
      "text/plain": [
       "<matplotlib.figure.Figure at 0x25adf437e10>"
      ]
     },
     "metadata": {},
     "output_type": "display_data"
    }
   ],
   "source": [
    "import random\n",
    "import matplotlib.pyplot as plt\n",
    "\n",
    "for i in range(5):\n",
    "    ind = random.randint(0,len(x))\n",
    "    plt.imshow(x[ind])\n",
    "    plt.title(\"Label : \"+str(y[ind]))\n",
    "    plt.show()"
   ]
  },
  {
   "cell_type": "markdown",
   "metadata": {},
   "source": [
    "এবার scikit দিয়ে একটু দেখা যাক !\n",
    "---\n",
    "Let's train a scikit model !"
   ]
  },
  {
   "cell_type": "code",
   "execution_count": 18,
   "metadata": {},
   "outputs": [
    {
     "name": "stdout",
     "output_type": "stream",
     "text": [
      "(19701, 784)\n",
      "Wall time: 64.5 ms\n"
     ]
    }
   ],
   "source": [
    "%%time\n",
    "ex = []\n",
    "for i in x:\n",
    "    ex.append(np.ndarray.flatten(i))\n",
    "ex = np.array(ex)\n",
    "print(ex.shape)"
   ]
  },
  {
   "cell_type": "code",
   "execution_count": 19,
   "metadata": {},
   "outputs": [],
   "source": [
    "from sklearn.model_selection import train_test_split\n",
    "X_train, X_test, y_train, y_test = train_test_split(ex, y, test_size=0.20, random_state=42)"
   ]
  },
  {
   "cell_type": "code",
   "execution_count": 20,
   "metadata": {},
   "outputs": [
    {
     "name": "stdout",
     "output_type": "stream",
     "text": [
      "15760 15760\n"
     ]
    }
   ],
   "source": [
    "print(len(X_train),len(y_train))"
   ]
  },
  {
   "cell_type": "code",
   "execution_count": 21,
   "metadata": {},
   "outputs": [
    {
     "name": "stdout",
     "output_type": "stream",
     "text": [
      "3941 3941\n"
     ]
    }
   ],
   "source": [
    "print(len(X_test),len(y_test))"
   ]
  },
  {
   "cell_type": "code",
   "execution_count": 22,
   "metadata": {},
   "outputs": [
    {
     "name": "stdout",
     "output_type": "stream",
     "text": [
      "0.529814767825425\n"
     ]
    }
   ],
   "source": [
    "from sklearn.tree import DecisionTreeClassifier \n",
    "from sklearn.metrics import accuracy_score\n",
    "clf = DecisionTreeClassifier()\n",
    "clf = clf.fit(X_train,y_train)\n",
    "prediction = clf.predict(X_test)\n",
    "accscore = accuracy_score(y_test,prediction)\n",
    "print(accscore)"
   ]
  },
  {
   "cell_type": "markdown",
   "metadata": {},
   "source": [
    "Keras দিয়ে দেখা যাক !\n",
    "--\n",
    "Let's Go For Keras!\n",
    "\n",
    "Building Model : "
   ]
  },
  {
   "cell_type": "code",
   "execution_count": 25,
   "metadata": {},
   "outputs": [
    {
     "name": "stderr",
     "output_type": "stream",
     "text": [
      "c:\\python35\\lib\\site-packages\\h5py\\__init__.py:36: FutureWarning: Conversion of the second argument of issubdtype from `float` to `np.floating` is deprecated. In future, it will be treated as `np.float64 == np.dtype(float).type`.\n",
      "  from ._conv import register_converters as _register_converters\n",
      "Using TensorFlow backend.\n"
     ]
    }
   ],
   "source": [
    "from keras.utils import np_utils\n",
    "from __future__ import print_function\n",
    "import keras\n",
    "from keras.models import Sequential\n",
    "from keras.layers import Dense, Dropout, Flatten, Conv2D, MaxPool2D\n",
    "from keras.optimizers import RMSprop\n",
    "from keras.preprocessing.image import ImageDataGenerator\n",
    "from keras.callbacks import ReduceLROnPlateau"
   ]
  },
  {
   "cell_type": "code",
   "execution_count": 26,
   "metadata": {},
   "outputs": [
    {
     "data": {
      "text/plain": [
       "(15760, 10)"
      ]
     },
     "execution_count": 26,
     "metadata": {},
     "output_type": "execute_result"
    }
   ],
   "source": [
    "nb_classes=10\n",
    "y_train = np.array(y_train)\n",
    "y_train = np_utils.to_categorical(y_train, nb_classes).astype(np.float32)\n",
    "class_totals = y_train.sum(axis=0)\n",
    "class_weight = class_totals.max() / class_totals\n",
    "y_train.shape"
   ]
  },
  {
   "cell_type": "code",
   "execution_count": 27,
   "metadata": {},
   "outputs": [
    {
     "data": {
      "text/plain": [
       "(15760, 28, 28, 1)"
      ]
     },
     "execution_count": 27,
     "metadata": {},
     "output_type": "execute_result"
    }
   ],
   "source": [
    "X_train=X_train.reshape(15760,28,28,1)\n",
    "X_train.shape"
   ]
  },
  {
   "cell_type": "code",
   "execution_count": 28,
   "metadata": {},
   "outputs": [
    {
     "name": "stdout",
     "output_type": "stream",
     "text": [
      "_________________________________________________________________\n",
      "Layer (type)                 Output Shape              Param #   \n",
      "=================================================================\n",
      "conv2d_1 (Conv2D)            (None, 28, 28, 32)        832       \n",
      "_________________________________________________________________\n",
      "conv2d_2 (Conv2D)            (None, 28, 28, 32)        16416     \n",
      "_________________________________________________________________\n",
      "max_pooling2d_1 (MaxPooling2 (None, 14, 14, 32)        0         \n",
      "_________________________________________________________________\n",
      "dropout_1 (Dropout)          (None, 14, 14, 32)        0         \n",
      "_________________________________________________________________\n",
      "conv2d_3 (Conv2D)            (None, 14, 14, 64)        18496     \n",
      "_________________________________________________________________\n",
      "conv2d_4 (Conv2D)            (None, 14, 14, 64)        36928     \n",
      "_________________________________________________________________\n",
      "max_pooling2d_2 (MaxPooling2 (None, 7, 7, 64)          0         \n",
      "_________________________________________________________________\n",
      "dropout_2 (Dropout)          (None, 7, 7, 64)          0         \n",
      "_________________________________________________________________\n",
      "conv2d_5 (Conv2D)            (None, 7, 7, 64)          36928     \n",
      "_________________________________________________________________\n",
      "conv2d_6 (Conv2D)            (None, 7, 7, 64)          36928     \n",
      "_________________________________________________________________\n",
      "max_pooling2d_3 (MaxPooling2 (None, 3, 3, 64)          0         \n",
      "_________________________________________________________________\n",
      "dropout_3 (Dropout)          (None, 3, 3, 64)          0         \n",
      "_________________________________________________________________\n",
      "flatten_1 (Flatten)          (None, 576)               0         \n",
      "_________________________________________________________________\n",
      "dense_1 (Dense)              (None, 256)               147712    \n",
      "_________________________________________________________________\n",
      "dense_2 (Dense)              (None, 256)               65792     \n",
      "_________________________________________________________________\n",
      "dropout_4 (Dropout)          (None, 256)               0         \n",
      "_________________________________________________________________\n",
      "dense_3 (Dense)              (None, 10)                2570      \n",
      "=================================================================\n",
      "Total params: 362,602\n",
      "Trainable params: 362,602\n",
      "Non-trainable params: 0\n",
      "_________________________________________________________________\n"
     ]
    }
   ],
   "source": [
    "model = Sequential()\n",
    "\n",
    "model.add(Conv2D(filters = 32, kernel_size = (5,5),padding = 'Same', \n",
    "                 activation ='relu', input_shape = X_train.shape[1:]))\n",
    "model.add(Conv2D(filters = 32, kernel_size = (4,4),padding = 'Same', \n",
    "                 activation ='relu'))\n",
    "model.add(MaxPool2D(pool_size=(2,2)))\n",
    "model.add(Dropout(0.3))\n",
    "\n",
    "model.add(Conv2D(filters = 64, kernel_size = (3,3),padding = 'Same', \n",
    "                 activation ='relu'))\n",
    "model.add(Conv2D(filters = 64, kernel_size = (3,3),padding = 'Same', \n",
    "                 activation ='relu'))\n",
    "model.add(MaxPool2D(pool_size=(2,2), strides=(2,2)))\n",
    "model.add(Dropout(0.3))\n",
    "\n",
    "model.add(Conv2D(filters = 64, kernel_size = (3,3),padding = 'Same', \n",
    "                 activation ='relu'))\n",
    "model.add(Conv2D(filters = 64, kernel_size = (3,3),padding = 'Same', \n",
    "                 activation ='relu'))\n",
    "model.add(MaxPool2D(pool_size=(2,2), strides=(2,2)))\n",
    "model.add(Dropout(0.3))\n",
    "\n",
    "model.add(Flatten())\n",
    "model.add(Dense(256, activation = \"relu\"))\n",
    "model.add(Dense(256, activation = \"relu\"))\n",
    "model.add(Dropout(0.5))\n",
    "model.add(Dense(10, activation = \"softmax\"))\n",
    "optimizer = RMSprop(lr=0.001, rho=0.9, epsilon=1e-08, decay=0.0)\n",
    "model.compile(optimizer = optimizer , loss = \"categorical_crossentropy\", metrics=[\"accuracy\"])\n",
    "learning_rate_reduction = ReduceLROnPlateau(monitor='val_acc', \n",
    "                                            patience=3, \n",
    "                                            verbose=1, \n",
    "                                            factor=0.5, \n",
    "                                            min_lr=0.00001)\n",
    "model.summary()"
   ]
  },
  {
   "cell_type": "code",
   "execution_count": 30,
   "metadata": {},
   "outputs": [
    {
     "name": "stdout",
     "output_type": "stream",
     "text": [
      "Train on 14184 samples, validate on 1576 samples\n",
      "Epoch 1/20\n",
      "14184/14184 [==============================] - 3s 227us/step - loss: 0.6334 - acc: 0.7896 - val_loss: 0.3508 - val_acc: 0.8883\n",
      "Epoch 2/20\n",
      "14184/14184 [==============================] - 3s 214us/step - loss: 0.5433 - acc: 0.8206 - val_loss: 0.3672 - val_acc: 0.8680\n",
      "Epoch 3/20\n",
      "14184/14184 [==============================] - 3s 224us/step - loss: 0.4921 - acc: 0.8401 - val_loss: 0.3331 - val_acc: 0.8896\n",
      "Epoch 4/20\n",
      "14184/14184 [==============================] - 3s 211us/step - loss: 0.5101 - acc: 0.8316 - val_loss: 0.2677 - val_acc: 0.9042\n",
      "Epoch 5/20\n",
      "14184/14184 [==============================] - 3s 210us/step - loss: 0.4552 - acc: 0.8527 - val_loss: 0.3385 - val_acc: 0.8845\n",
      "Epoch 6/20\n",
      "14184/14184 [==============================] - 3s 208us/step - loss: 0.3905 - acc: 0.8713 - val_loss: 0.3441 - val_acc: 0.8871\n",
      "Epoch 7/20\n",
      "14184/14184 [==============================] - 3s 209us/step - loss: 0.3906 - acc: 0.8738 - val_loss: 0.3186 - val_acc: 0.8947\n",
      "Epoch 8/20\n",
      "14184/14184 [==============================] - 3s 208us/step - loss: 0.3798 - acc: 0.8768 - val_loss: 0.2660 - val_acc: 0.9201\n",
      "Epoch 9/20\n",
      "14184/14184 [==============================] - 3s 221us/step - loss: 0.3196 - acc: 0.8933 - val_loss: 0.1971 - val_acc: 0.9334\n",
      "Epoch 10/20\n",
      "14184/14184 [==============================] - 3s 219us/step - loss: 0.3053 - acc: 0.9007 - val_loss: 0.1950 - val_acc: 0.9359\n",
      "Epoch 11/20\n",
      "14184/14184 [==============================] - 3s 220us/step - loss: 0.2993 - acc: 0.9031 - val_loss: 0.2854 - val_acc: 0.9118\n",
      "Epoch 12/20\n",
      "14184/14184 [==============================] - 3s 208us/step - loss: 0.2864 - acc: 0.9062 - val_loss: 0.2514 - val_acc: 0.9118\n",
      "Epoch 13/20\n",
      "14184/14184 [==============================] - 3s 208us/step - loss: 0.2695 - acc: 0.9139 - val_loss: 0.2759 - val_acc: 0.9099\n",
      "Epoch 14/20\n",
      "14184/14184 [==============================] - 3s 221us/step - loss: 0.2440 - acc: 0.9237 - val_loss: 0.2527 - val_acc: 0.9099\n",
      "Epoch 15/20\n",
      "14184/14184 [==============================] - 3s 209us/step - loss: 0.2645 - acc: 0.9170 - val_loss: 0.2122 - val_acc: 0.9289\n",
      "Epoch 16/20\n",
      "14184/14184 [==============================] - 3s 208us/step - loss: 0.2119 - acc: 0.9326 - val_loss: 0.1887 - val_acc: 0.9397\n",
      "Epoch 17/20\n",
      "14184/14184 [==============================] - 3s 208us/step - loss: 0.2233 - acc: 0.9271 - val_loss: 0.2082 - val_acc: 0.9296\n",
      "Epoch 18/20\n",
      "14184/14184 [==============================] - 3s 207us/step - loss: 0.2106 - acc: 0.9322 - val_loss: 0.1347 - val_acc: 0.9600\n",
      "Epoch 19/20\n",
      "14184/14184 [==============================] - 3s 207us/step - loss: 0.1855 - acc: 0.9409 - val_loss: 0.3116 - val_acc: 0.9029\n",
      "Epoch 20/20\n",
      "14184/14184 [==============================] - 3s 208us/step - loss: 0.2168 - acc: 0.9311 - val_loss: 0.1454 - val_acc: 0.9581\n"
     ]
    },
    {
     "data": {
      "text/plain": [
       "<keras.callbacks.History at 0x25ae9561278>"
      ]
     },
     "execution_count": 30,
     "metadata": {},
     "output_type": "execute_result"
    }
   ],
   "source": [
    "validation_split = 0.10\n",
    "model.fit(X_train, y_train, batch_size=1000, class_weight=class_weight, epochs=20, verbose=1, validation_split=validation_split)"
   ]
  },
  {
   "cell_type": "code",
   "execution_count": 31,
   "metadata": {},
   "outputs": [
    {
     "name": "stdout",
     "output_type": "stream",
     "text": [
      "Model Saved\n"
     ]
    }
   ],
   "source": [
    "open('model.json', 'w').write(model.to_json())\n",
    "model.save_weights('weights.h5')\n",
    "print(\"Model Saved\")"
   ]
  },
  {
   "cell_type": "code",
   "execution_count": 32,
   "metadata": {},
   "outputs": [
    {
     "data": {
      "image/png": "[encoded data removed]",
      "text/plain": [
       "<matplotlib.figure.Figure at 0x25adce4e4e0>"
      ]
     },
     "metadata": {},
     "output_type": "display_data"
    }
   ],
   "source": [
    "%matplotlib inline\n",
    "from matplotlib import pyplot as plt\n",
    "plt.plot(model.model.history.history['loss'],'red')\n",
    "plt.plot(model.model.history.history['acc'],'blue')\n",
    "plt.plot(model.model.history.history['val_loss'],'yellow')\n",
    "plt.plot(model.model.history.history['val_acc'],'black')\n",
    "plt.show()"
   ]
  },
  {
   "cell_type": "markdown",
   "metadata": {},
   "source": [
    "মডেল টেস্ট করা যাক । \n",
    "---\n",
    "Testing out our Model!"
   ]
  },
  {
   "cell_type": "code",
   "execution_count": 33,
   "metadata": {},
   "outputs": [],
   "source": [
    "X_test = X_test.reshape(3941,28,28,1)\n",
    "pred = model.predict(X_test)"
   ]
  },
  {
   "cell_type": "code",
   "execution_count": 34,
   "metadata": {},
   "outputs": [],
   "source": [
    "X_test = X_test.reshape(3941,28,28)"
   ]
  },
  {
   "cell_type": "code",
   "execution_count": 43,
   "metadata": {
    "scrolled": false
   },
   "outputs": [
    {
     "data": {
      "image/png": "[encoded data removed]",
      "text/plain": [
       "<matplotlib.figure.Figure at 0x25ac7fbda20>"
      ]
     },
     "metadata": {},
     "output_type": "display_data"
    },
    {
     "data": {
      "image/png": "[encoded data removed]",
      "text/plain": [
       "<matplotlib.figure.Figure at 0x25ac8127550>"
      ]
     },
     "metadata": {},
     "output_type": "display_data"
    },
    {
     "data": {
      "image/png": "[encoded data removed]",
      "text/plain": [
       "<matplotlib.figure.Figure at 0x25ac800e550>"
      ]
     },
     "metadata": {},
     "output_type": "display_data"
    },
    {
     "data": {
      "image/png": "[encoded data removed]",
      "text/plain": [
       "<matplotlib.figure.Figure at 0x25ae9d40b70>"
      ]
     },
     "metadata": {},
     "output_type": "display_data"
    },
    {
     "data": {
      "image/png": "[encoded data removed]",
      "text/plain": [
       "<matplotlib.figure.Figure at 0x25adf433080>"
      ]
     },
     "metadata": {},
     "output_type": "display_data"
    },
    {
     "data": {
      "image/png": "[encoded data removed]",
      "text/plain": [
       "<matplotlib.figure.Figure at 0x25ac812eba8>"
      ]
     },
     "metadata": {},
     "output_type": "display_data"
    },
    {
     "data": {
      "image/png": "[encoded data removed]",
      "text/plain": [
       "<matplotlib.figure.Figure at 0x25ac8088048>"
      ]
     },
     "metadata": {},
     "output_type": "display_data"
    },
    {
     "data": {
      "image/png": "[encoded data removed]",
      "text/plain": [
       "<matplotlib.figure.Figure at 0x25a801fc160>"
      ]
     },
     "metadata": {},
     "output_type": "display_data"
    },
    {
     "data": {
      "image/png": "[encoded data removed]",
      "text/plain": [
       "<matplotlib.figure.Figure at 0x25ac8f39978>"
      ]
     },
     "metadata": {},
     "output_type": "display_data"
    },
    {
     "data": {
      "image/png": "[encoded data removed]",
      "text/plain": [
       "<matplotlib.figure.Figure at 0x25a801a55c0>"
      ]
     },
     "metadata": {},
     "output_type": "display_data"
    }
   ],
   "source": [
    "m = 10\n",
    "for i in range(m):\n",
    "    ids = random.randint(0,3941)\n",
    "    #print\n",
    "    predicted = pred[ids]\n",
    "    actual = y_test[ids]\n",
    "    #show\n",
    "    plt.imshow(X_test[ids])\n",
    "    plt.title(\"Predicted label :\"+str(np.argmax(predicted))+\"\\nActual Label:\"+str(actual))\n",
    "    plt.axis('off')\n",
    "    plt.show()"
   ]
  },
  {
   "cell_type": "markdown",
   "metadata": {},
   "source": [
    "দেখা যাক কিরম টেস্টি accuracy পাই ! \n",
    "--- \n",
    "Let's see our testing accuracy!\n"
   ]
  },
  {
   "cell_type": "code",
   "execution_count": 44,
   "metadata": {},
   "outputs": [
    {
     "name": "stdout",
     "output_type": "stream",
     "text": [
      "0.9543263131184978\n"
     ]
    }
   ],
   "source": [
    "p = np.argmax(pred,axis=1)\n",
    "accscore = accuracy_score(y_test,p)\n",
    "print(accscore)"
   ]
  },
  {
   "cell_type": "markdown",
   "metadata": {},
   "source": [
    "Thus we see that with a Convolutional Neural Net optimized with RMSProp and LearningRateReduction we can achieve a ~95% accuracy on the testset for Bengali Digit Recognition."
   ]
  }
 ],
 "metadata": {
  "kernelspec": {
   "display_name": "Python 3",
   "language": "python",
   "name": "python3"
  },
  "language_info": {
   "codemirror_mode": {
    "name": "ipython",
    "version": 3
   },
   "file_extension": ".py",
   "mimetype": "text/x-python",
   "name": "python",
   "nbconvert_exporter": "python",
   "pygments_lexer": "ipython3",
   "version": "3.5.0"
  }
 },
 "nbformat": 4,
 "nbformat_minor": 2
}
